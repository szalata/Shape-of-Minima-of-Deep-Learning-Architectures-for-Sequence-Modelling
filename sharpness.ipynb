{
  "nbformat": 4,
  "nbformat_minor": 0,
  "metadata": {
    "colab": {
      "name": "sharpness.ipynb",
      "provenance": [],
      "collapsed_sections": []
    },
    "kernelspec": {
      "name": "python3",
      "display_name": "Python 3"
    },
    "language_info": {
      "name": "python"
    }
  },
  "cells": [
    {
      "cell_type": "code",
      "metadata": {
        "id": "LcQrTR0sc6m2"
      },
      "source": [
        "import torch\n",
        "import torchvision.models as models\n",
        "import numpy as np\n",
        "from torch import nn\n",
        "\n",
        "#example of loss and weights\n",
        "def loss(x):\n",
        "  return x.pow(3).sum()\n",
        "weights = torch.rand(2, 2)"
      ],
      "execution_count": 74,
      "outputs": []
    },
    {
      "cell_type": "code",
      "metadata": {
        "id": "hsMEiobnc8lB"
      },
      "source": [
        "# hessian and loss are reverred to a minimum point\n",
        "\n",
        "#calculate hessian\n",
        "def calculate_hessian(loss, weights):\n",
        "  hessian = torch.autograd.functional.hessian(loss, weights)\n",
        "  hessian = hessian.sum(dim = 1).sum(dim = 0)\n",
        "  return hessian.numpy()\n",
        "\n",
        "#max eigenvalue\n",
        "def max_eigenvalue(hessian):\n",
        "  return max(np.linalg.eigvals(hessian))\n",
        "\n",
        "#mean eigenvalue\n",
        "def mean_eigenvalue(hessian):\n",
        "  return np.linalg.eigvals(hessian).mean()\n",
        "\n",
        "# measure based on hessian norm2 as in https://arxiv.org/pdf/1703.04933.pdf\n",
        "def norm2_hessian(loss, hessian):\n",
        "  norma = np.linalg.norm(hessian)\n",
        "  return norma/(2+2*loss)\n",
        "\n",
        "#measure based on hessian nuclear norm\n",
        "def normn_hessian(loss, hessian):\n",
        "  norma = np.linalg.norm(hessian, ord=\"nuc\")\n",
        "  return norma/(2+2*loss)\n",
        "\n",
        "#measure trace hessian\n",
        "def trace_hessian(hessian):\n",
        "  return sum(np.linalg.eigvals(hessian))\n",
        "\n",
        "#measure determinant hessian\n",
        "def determinant_hessian(hessian):\n",
        "  return np.linalg.det(hessian)\n",
        "\n",
        "# possible to add pag 11 https://arxiv.org/pdf/1901.04653.pd"
      ],
      "execution_count": 181,
      "outputs": []
    },
    {
      "cell_type": "code",
      "metadata": {
        "colab": {
          "base_uri": "https://localhost:8080/"
        },
        "id": "ySGtCPyhp213",
        "outputId": "a04ffa75-76e8-4e1b-c089-611c3439965e"
      },
      "source": [
        "#tests\n",
        "hessian = calculate_hessian(loss, weights)\n",
        "hessian"
      ],
      "execution_count": 182,
      "outputs": [
        {
          "output_type": "execute_result",
          "data": {
            "text/plain": [
              "array([[3.2199879, 4.332014 ],\n",
              "       [5.7130795, 1.9056337]], dtype=float32)"
            ]
          },
          "metadata": {
            "tags": []
          },
          "execution_count": 182
        }
      ]
    },
    {
      "cell_type": "code",
      "metadata": {
        "colab": {
          "base_uri": "https://localhost:8080/"
        },
        "id": "_lGHYcv7tqJv",
        "outputId": "f729b3c8-f31c-4c7f-a365-e2c47c4afba9"
      },
      "source": [
        "np.linalg.eigvals(hessian)"
      ],
      "execution_count": 183,
      "outputs": [
        {
          "output_type": "execute_result",
          "data": {
            "text/plain": [
              "array([ 7.58088  , -2.4552588], dtype=float32)"
            ]
          },
          "metadata": {
            "tags": []
          },
          "execution_count": 183
        }
      ]
    },
    {
      "cell_type": "code",
      "metadata": {
        "colab": {
          "base_uri": "https://localhost:8080/"
        },
        "id": "XX54YBI5yRtB",
        "outputId": "2e5a8ea2-9fd7-4c9e-da6c-b69fcf3bbf46"
      },
      "source": [
        "eps_sharpness(0.1, loss(weights), hessian)"
      ],
      "execution_count": 184,
      "outputs": [
        {
          "output_type": "execute_result",
          "data": {
            "text/plain": [
              "tensor(0.0167)"
            ]
          },
          "metadata": {
            "tags": []
          },
          "execution_count": 184
        }
      ]
    },
    {
      "cell_type": "code",
      "metadata": {
        "colab": {
          "base_uri": "https://localhost:8080/"
        },
        "id": "_Dv3_Rim1zmY",
        "outputId": "ccb7f2af-39bc-43f2-8722-e6f0ec126f2e"
      },
      "source": [
        "norm2_hessian(loss(weights),hessian)"
      ],
      "execution_count": 185,
      "outputs": [
        {
          "output_type": "execute_result",
          "data": {
            "text/plain": [
              "tensor(1.6666)"
            ]
          },
          "metadata": {
            "tags": []
          },
          "execution_count": 185
        }
      ]
    },
    {
      "cell_type": "code",
      "metadata": {
        "colab": {
          "base_uri": "https://localhost:8080/"
        },
        "id": "W-UQgLrs34BO",
        "outputId": "f43cd243-213a-4c9e-e5ad-08357096498c"
      },
      "source": [
        "normn_hessian(loss(weights), hessian)"
      ],
      "execution_count": 186,
      "outputs": [
        {
          "output_type": "execute_result",
          "data": {
            "text/plain": [
              "tensor(2.0877)"
            ]
          },
          "metadata": {
            "tags": []
          },
          "execution_count": 186
        }
      ]
    },
    {
      "cell_type": "code",
      "metadata": {
        "colab": {
          "base_uri": "https://localhost:8080/"
        },
        "id": "a94nuz5X4Gwo",
        "outputId": "76b7a27c-961c-45a3-c56f-585a0e890720"
      },
      "source": [
        "trace_hessian(hessian)"
      ],
      "execution_count": 187,
      "outputs": [
        {
          "output_type": "execute_result",
          "data": {
            "text/plain": [
              "5.125621318817139"
            ]
          },
          "metadata": {
            "tags": []
          },
          "execution_count": 187
        }
      ]
    },
    {
      "cell_type": "code",
      "metadata": {
        "colab": {
          "base_uri": "https://localhost:8080/"
        },
        "id": "Y6JpSj9F86JH",
        "outputId": "6d05a321-a137-4c05-d53d-c467c17753af"
      },
      "source": [
        "determinant_hessian(hessian)"
      ],
      "execution_count": 189,
      "outputs": [
        {
          "output_type": "execute_result",
          "data": {
            "text/plain": [
              "-18.613024"
            ]
          },
          "metadata": {
            "tags": []
          },
          "execution_count": 189
        }
      ]
    },
    {
      "cell_type": "code",
      "metadata": {
        "id": "cfCJfZGF9bwc"
      },
      "source": [
        ""
      ],
      "execution_count": null,
      "outputs": []
    }
  ]
}
{
 "cells": [
  {
   "cell_type": "code",
   "execution_count": 1,
   "metadata": {},
   "outputs": [],
   "source": [
    "# you may have to install pyhessian\n",
    "#!pip install pyhessian\n",
    "import pyhessian"
   ]
  },
  {
   "cell_type": "code",
   "execution_count": 2,
   "metadata": {},
   "outputs": [],
   "source": [
    "import torch\n",
    "import torchvision.models as models\n",
    "import numpy as np\n",
    "from torch import nn\n",
    "from pyhessian import hessian\n",
    "from SeqDataset import SeqDataset\n",
    "from torch.utils.data import DataLoader\n",
    "\n",
    "\n",
    "model = torch.load(\"trained_models/model.pt\")"
   ]
  },
  {
   "cell_type": "code",
   "execution_count": 3,
   "metadata": {},
   "outputs": [],
   "source": [
    "# loss function ( binary classification)\n",
    "criterion = torch.nn.BCELoss()"
   ]
  },
  {
   "cell_type": "code",
   "execution_count": 4,
   "metadata": {},
   "outputs": [],
   "source": [
    "inputs = np.load(\"data/sequence_classification/X_train.npy\")\n",
    "# targets = np.load(\"data/sequence_classification/y_train.npy\")\n",
    "dataset_train = SeqDataset(\"data/sequence_classification\", \"train\")\n",
    "\n",
    "dataloader_train = DataLoader(dataset_train,\n",
    "                              shuffle=True,\n",
    "                              batch_size=inputs.shape[0])\n",
    "\n"
   ]
  },
  {
   "cell_type": "code",
   "execution_count": 5,
   "metadata": {},
   "outputs": [],
   "source": [
    "for inputs, targets in dataloader_train:\n",
    "    hessian_comp = hessian(model, criterion, data=(inputs, targets), cuda=False)"
   ]
  },
  {
   "cell_type": "code",
   "execution_count": null,
   "metadata": {},
   "outputs": [],
   "source": []
  }
 ],
 "metadata": {
  "kernelspec": {
   "name": "python378jvsc74a57bd02f9c55f523f70b1f0743b1c1f752da6b6afc6a703c938324f94bae26c99f258c",
   "display_name": "Python 3.7.8 64-bit ('faster-rcnn': conda)"
  },
  "language_info": {
   "codemirror_mode": {
    "name": "ipython",
    "version": 3
   },
   "file_extension": ".py",
   "mimetype": "text/x-python",
   "name": "python",
   "nbconvert_exporter": "python",
   "pygments_lexer": "ipython3",
   "version": "3.7.8"
  }
 },
 "nbformat": 4,
 "nbformat_minor": 4
}